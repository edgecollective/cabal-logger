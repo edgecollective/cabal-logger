{
 "cells": [
  {
   "cell_type": "code",
   "execution_count": 77,
   "metadata": {},
   "outputs": [],
   "source": [
    "import numpy as np"
   ]
  },
  {
   "cell_type": "code",
   "execution_count": 78,
   "metadata": {},
   "outputs": [],
   "source": [
    "import pandas as pd"
   ]
  },
  {
   "cell_type": "code",
   "execution_count": 97,
   "metadata": {},
   "outputs": [],
   "source": [
    "%matplotlib inline\n",
    "import matplotlib.pyplot as plt\n",
    "plt.style.use('seaborn-whitegrid')\n",
    "plt.rcParams['figure.figsize'] = [10, 5]"
   ]
  },
  {
   "cell_type": "code",
   "execution_count": 80,
   "metadata": {},
   "outputs": [],
   "source": [
    "a=pd.read_csv('log.txt', delimiter = ',',names=['key','action','timestamp'])"
   ]
  },
  {
   "cell_type": "code",
   "execution_count": 81,
   "metadata": {},
   "outputs": [
    {
     "name": "stdout",
     "output_type": "stream",
     "text": [
      "['2c7a5991e14139131acd304acf0c8c8025119acfdcadb2f29a6f1c89ca167880'\n",
      " 'f0dc539e39b392395535b49068e0855f8a8fae4b9de3a8a960de1ed493833967'\n",
      " '088a1012084b5581dc2de56cfe54544d342bb49e13b3078146c8c07af12049ff'\n",
      " 'f1e253308b7c26cbe5faa6b2fd1d3c22225f0c4f408e0c1299e11e98d3d934da'\n",
      " '65cc1a9c7383258fc7c9c561c5bde935d6acbde5519776ff20592876961d4ea9'\n",
      " '5ed4c0793d76f83b2cf053cc52ad64b52652f16ad6ab3783655ad9128dbc09d6'\n",
      " 'e1799fde40bf7e35374adbb3ff4296ef3a2bf13b651a04304eefadb3bc763568'\n",
      " '70df0f3bcf1940a3d20e650d6f065ba3e23b95907923a1d7f8b9abfd05731965'\n",
      " '652bae1c522c330c1b9ff3aa8c6268fd54be1c377251e794e62a93683b29c33b']\n"
     ]
    }
   ],
   "source": [
    "keys=a.key.unique()\n",
    "print(keys)"
   ]
  },
  {
   "cell_type": "code",
   "execution_count": 93,
   "metadata": {},
   "outputs": [],
   "source": [
    "first_timestamp=a.timestamp[0]"
   ]
  },
  {
   "cell_type": "code",
   "execution_count": 115,
   "metadata": {},
   "outputs": [
    {
     "data": {
      "image/png": "[encoded data removed]",
      "text/plain": [
       "<Figure size 720x360 with 1 Axes>"
      ]
     },
     "metadata": {},
     "output_type": "display_data"
    }
   ],
   "source": [
    "yval=0\n",
    "colors=['blue','green','red','cyan','magenta','yellow','orange','darkgreen']\n",
    "colorindex=0\n",
    "for i in range(0,len(keys)):\n",
    "    yvals=[]\n",
    "    key=keys[i]\n",
    "    key_events=a.loc[a['key'] == key]\n",
    "    key_events_added_times=key_events.loc[key_events['action']=='added']['timestamp'].tolist()\n",
    "    key_events_dropped_times=key_events.loc[key_events['action']=='added']['timestamp'].tolist()\n",
    "    added=[]\n",
    "    dropped=[]\n",
    "    for i in range(0,len(key_events_added_times)):\n",
    "        added.append((key_events_added_times[i]-first_timestamp)/3600)\n",
    "        dropped.append((key_events_dropped_times[i]-first_timestamp)/3600)\n",
    "        yvals.append(yval)\n",
    "    #print(added)\n",
    "    #print(dropped)\n",
    "    #print(yvals)\n",
    "    plt.plot(added,yvals,'o', color=colors[colorindex]);\n",
    "    plt.plot(dropped,yvals,'|',color='black')\n",
    "    yval=yval+10\n",
    "    colorindex=colorindex+1\n",
    "    if colorindex==len(colors):\n",
    "        colorindex=0\n",
    "plt.xlabel('hours')\n",
    "frame1 = plt.gca()\n",
    "frame1.axes.get_yaxis().set_visible(False)\n"
   ]
  },
  {
   "cell_type": "raw",
   "metadata": {},
   "source": [
    "key_prev=a.loc[0]['key']\n",
    "timestamp=a.loc[0]['timestamp']\n",
    "action=a.loc[0]['action']\n",
    "print(key_prev,timestamp,action)\n",
    "for i in range(0,len(a)):\n",
    "    key=a.loc[i]['key']\n",
    "    if key!=key_prev:\n",
    "        timestamp=a.loc[i]['timestamp']\n",
    "        action=a.loc[i]['action']\n",
    "        print(key,timestamp,action)\n",
    "    key_prev=key"
   ]
  },
  {
   "cell_type": "code",
   "execution_count": null,
   "metadata": {},
   "outputs": [],
   "source": []
  }
 ],
 "metadata": {
  "kernelspec": {
   "display_name": "Python 3",
   "language": "python",
   "name": "python3"
  },
  "language_info": {
   "codemirror_mode": {
    "name": "ipython",
    "version": 3
   },
   "file_extension": ".py",
   "mimetype": "text/x-python",
   "name": "python",
   "nbconvert_exporter": "python",
   "pygments_lexer": "ipython3",
   "version": "3.6.8"
  }
 },
 "nbformat": 4,
 "nbformat_minor": 2
}
